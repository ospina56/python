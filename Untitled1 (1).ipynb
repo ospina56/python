{
  "nbformat": 4,
  "nbformat_minor": 0,
  "metadata": {
    "colab": {
      "provenance": []
    },
    "kernelspec": {
      "name": "python3",
      "display_name": "Python 3"
    },
    "language_info": {
      "name": "python"
    }
  },
  "cells": [
    {
      "cell_type": "code",
      "source": [
        "edad=int(input(\"ingrese la edad:\"))\n",
        "if edad>=18:\n",
        "  print(\"es mayor de edad\")\n",
        "else:\n",
        "  print(\"es menor de edad\")"
      ],
      "metadata": {
        "id": "cfgBHY4PdB2J"
      },
      "execution_count": null,
      "outputs": []
    },
    {
      "cell_type": "code",
      "source": [
        "import math\n",
        "\n",
        "def calcular_area_circulo(radio):\n",
        "  area = math.pi * radio**2\n",
        "  return area\n",
        "radio = float(input(\"ingrese el radio del circulo\"))\n",
        "area = calcular_area_circulo(radio)\n",
        "print(\"el area del circulo es:\", area)\n"
      ],
      "metadata": {
        "id": "yjkroEn7eUAW"
      },
      "execution_count": null,
      "outputs": []
    },
    {
      "cell_type": "code",
      "source": [
        "def convertir( ):\n",
        "  d=int(input(\"2 dolar a peso, 1 peso a dolar\"))\n",
        "  t=float(input(\"digite la tasa de cambio\"))\n",
        "  if d==1:\n",
        "    plata=float(input(\"digite los pesos\"))\n",
        "    print(plata/t)\n",
        "  else:\n",
        "    plata=float(input(\"digite los dolares\"))\n",
        "    print(plata*t)\n",
        "\n",
        "convertir()"
      ],
      "metadata": {
        "id": "4RFbf8iRokft"
      },
      "execution_count": null,
      "outputs": []
    },
    {
      "cell_type": "code",
      "execution_count": null,
      "metadata": {
        "id": "XhxwyJWZEWDU"
      },
      "outputs": [],
      "source": [
        "def menu():\n",
        "  opc=1\n",
        "  while opc !=0:\n",
        "    opc=int(input(print(chr(27)+\"[1;34m\"+\"0:salir 1:convertir 2:area del circulo\")))\n",
        "    if opc==1:\n",
        "      convertir()\n",
        "    if opc==2:\n",
        "      print(\"el radio es\",calcular_area_circulo(int(input(\"digite el radio\"))))\n",
        "menu()"
      ]
    },
    {
      "cell_type": "code",
      "source": [
        "def es_numero(texto=\"\"):\n",
        "\n",
        "    \"\"\"\n",
        "    Función que devuelve si un texto representa un número o no.\n",
        "    https://www.w3schools.com/python/ref_string_isnumeric.asp\n",
        "    -1 para no es número, y 1 para sí es número.\n",
        "    @param: texto   Representa o no un número, incluso valida el vacío.\n",
        "    @return: Real   1 o -1.\n",
        "    \"\"\"\n",
        "\n",
        "    salida = -1\n",
        "\n",
        "    if texto.isnumeric() == False:\n",
        "        salida = -1\n",
        "\n",
        "    return salida\n",
        "\n",
        "print(es_numero(\"\"))\n",
        "print(es_numero(\"camilo f\"))\n",
        "print(es_numero(\"15\"))\n",
        "print(es_numero(\"12\"))"
      ],
      "metadata": {
        "id": "qB78D_MVh-A1"
      },
      "execution_count": null,
      "outputs": []
    },
    {
      "cell_type": "code",
      "source": [
        "def imprimir_color_amarillo(mensaje):\n",
        "    \"\"\"\n",
        "    https://python-para-impacientes.blogspot.com/2016/09/dar-color-las-salidas-en-la-consola.html\n",
        "    Función que imprime un mensaje del usuario en color amarillo.\n",
        "    Cuándo se trata de funciones para manipular el aspecto, es posible permitirles las impresiones internas.\n",
        "    @param: string      Mensaje del usuario.\n",
        "    \"\"\"\n",
        "#print(chr(27)+\"[1;33m\"+\"Texto en negrita de color amarillo\")\n",
        "#print(\"\\x1b[1;33m\"+\"Texto en negrita de color amarillo\")\n",
        "print(\"\\033[4;35m\"+\"Texto en negrita y subrayado de color morado\")\n"
      ],
      "metadata": {
        "id": "TE1XeOTNosj0"
      },
      "execution_count": null,
      "outputs": []
    },
    {
      "cell_type": "code",
      "source": [
        "import math\n",
        "from termcolor import colored\n",
        "\n",
        "def convertir():\n",
        "    d = input(colored(\"1 pesos a dólares, 2 dólares a pesos: \", \"blue\"))\n",
        "    if not d.isdigit():\n",
        "        print(chr(27)+\"[1;33m\"+\"Error: Debes ingresar un número.\")\n",
        "        return\n",
        "\n",
        "    d = int(d)\n",
        "    t = float(input(colored(\"Digita la tasa de cambio: \", \"blue\")))\n",
        "\n",
        "    if d == 1:\n",
        "        plata = input(colored(\"Digita los pesos: \", \"blue\"))\n",
        "        if not plata.isdigit():\n",
        "            print(colored(\"Error: Debes ingresar un número.\", \"red\"))\n",
        "            return\n",
        "        plata = int(plata)\n",
        "        print(colored(plata / t, \"green\"))\n",
        "    else:\n",
        "        plata = input(colored(\"Digita los dólares: \", \"blue\"))\n",
        "        if not plata.isdigit():\n",
        "            print(colored(\"Error: Debes ingresar un número.\", \"red\"))\n",
        "            return\n",
        "        plata = int(plata)\n",
        "        print(colored(plata * t, \"green\"))\n",
        "\n",
        "def circulo(radio):\n",
        "    salida = 0\n",
        "    salida = math.pi * radio ** 2\n",
        "    return salida\n",
        "\n",
        "def menu():\n",
        "    opcion = 1\n",
        "    while opcion != 0:\n",
        "        opcion = int(input(print(chr(27)+\"[1;34m\"+\"0. Salir, 1. Convertir, 2. Calcular área del círculo: \")))\n",
        "        if opcion == 1:\n",
        "            convertir()\n",
        "        elif opcion == 2:\n",
        "            radio = input(colored(\"Digite el radio del círculo: \", \"blue\"))\n",
        "            if not radio.isdigit():\n",
        "                print(colored(\"Error: Debes ingresar un número.\", \"red\"))\n",
        "                continue\n",
        "            radio = float(radio)\n",
        "            print(colored(\"El área del círculo es:\", \"green\"), colored(circulo(radio), \"green\"))\n",
        "\n",
        "menu()\n"
      ],
      "metadata": {
        "id": "hDS9s-QNH57c"
      },
      "execution_count": null,
      "outputs": []
    }
  ]
}